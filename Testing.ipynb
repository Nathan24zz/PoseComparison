{
 "cells": [
  {
   "cell_type": "markdown",
   "id": "9ca6f1e6-20f9-4a4c-bd32-3769b727a188",
   "metadata": {},
   "source": [
    "## Test with Existing Lookup Table "
   ]
  },
  {
   "cell_type": "code",
   "execution_count": 9,
   "id": "454f9b9d-2fb9-441d-9186-d0426fb391d4",
   "metadata": {
    "collapsed": true,
    "jupyter": {
     "outputs_hidden": true
    },
    "tags": []
   },
   "outputs": [
    {
     "name": "stdout",
     "output_type": "stream",
     "text": [
      "2023-02-20 12:52:33.348785: I tensorflow/core/platform/cpu_feature_guard.cc:193] This TensorFlow binary is optimized with oneAPI Deep Neural Network Library (oneDNN) to use the following CPU instructions in performance-critical operations:  AVX2 FMA\n",
      "To enable them in other operations, rebuild TensorFlow with the appropriate compiler flags.\n",
      "2023-02-20 12:52:34.133467: W tensorflow/compiler/xla/stream_executor/platform/default/dso_loader.cc:64] Could not load dynamic library 'libnvinfer.so.7'; dlerror: libnvinfer.so.7: cannot open shared object file: No such file or directory; LD_LIBRARY_PATH: /usr/local/nvidia/lib:/usr/local/nvidia/lib64\n",
      "2023-02-20 12:52:34.133538: W tensorflow/compiler/xla/stream_executor/platform/default/dso_loader.cc:64] Could not load dynamic library 'libnvinfer_plugin.so.7'; dlerror: libnvinfer_plugin.so.7: cannot open shared object file: No such file or directory; LD_LIBRARY_PATH: /usr/local/nvidia/lib:/usr/local/nvidia/lib64\n",
      "2023-02-20 12:52:34.133546: W tensorflow/compiler/tf2tensorrt/utils/py_utils.cc:38] TF-TRT Warning: Cannot dlopen some TensorRT libraries. If you would like to use Nvidia GPU with TensorRT, please make sure the missing libraries mentioned above are installed properly.\n",
      "2023-02-20 12:52:35.108985: I tensorflow/core/platform/cpu_feature_guard.cc:193] This TensorFlow binary is optimized with oneAPI Deep Neural Network Library (oneDNN) to use the following CPU instructions in performance-critical operations:  AVX2 FMA\n",
      "To enable them in other operations, rebuild TensorFlow with the appropriate compiler flags.\n",
      "2023-02-20 12:52:35.587345: I tensorflow/core/common_runtime/gpu/gpu_device.cc:1613] Created device /job:localhost/replica:0/task:0/device:GPU:0 with 5935 MB memory:  -> device: 0, name: A100-SXM4-40GB MIG 2g.10gb, pci bus id: 0000:b7:00.0, compute capability: 8.0\n",
      "2023-02-20 12:52:35.682120: I tensorflow/compiler/mlir/mlir_graph_optimization_pass.cc:357] MLIR V1 optimization pass is not enabled\n",
      "2023-02-20 12:52:36.763396: I tensorflow/compiler/xla/stream_executor/cuda/cuda_dnn.cc:428] Loaded cuDNN version 8700\n",
      "Total Score :  90.88235294117646\n",
      "Score List :  [89, 87, 88, 89, 92, 94, 93, 97, 91, 96, 95, 93, 88, 92, 86, 90, 85]\n"
     ]
    }
   ],
   "source": [
    "!python start_here.py --activity \"punch - side\" --video \"test.mp4\"\n",
    "\n",
    "# Total Score :  90.88235294117646"
   ]
  },
  {
   "cell_type": "code",
   "execution_count": 1,
   "id": "27ba40c0-a449-4638-bd03-d159fa84e1fe",
   "metadata": {
    "collapsed": true,
    "jupyter": {
     "outputs_hidden": true
    },
    "tags": []
   },
   "outputs": [
    {
     "data": {
      "text/plain": [
       "{'punch - side': array([[[5.15185672e+01, 8.93372620e+00],\n",
       "         [4.70564307e+01, 2.76525420e-01],\n",
       "         [4.32060233e+01, 2.80460491e+00],\n",
       "         ...,\n",
       "         [4.81518865e+00, 1.71306697e+02],\n",
       "         [5.91169240e+01, 2.00305832e+02],\n",
       "         [9.84057158e+00, 2.16749078e+02]],\n",
       " \n",
       "        [[5.13339749e+01, 9.12596026e+00],\n",
       "         [4.68509993e+01, 5.62280139e-01],\n",
       "         [4.30994254e+01, 3.15363157e+00],\n",
       "         ...,\n",
       "         [4.78942623e+00, 1.71618807e+02],\n",
       "         [5.88837711e+01, 2.00361182e+02],\n",
       "         [9.67431284e+00, 2.16373261e+02]],\n",
       " \n",
       "        [[5.12239972e+01, 8.31888427e+00],\n",
       "         [4.71536301e+01, 1.85922264e-01],\n",
       "         [4.13419475e+01, 8.99030747e-01],\n",
       "         ...,\n",
       "         [4.89587647e+00, 1.70029726e+02],\n",
       "         [5.92805528e+01, 1.99135659e+02],\n",
       "         [9.97859992e+00, 2.14544174e+02]],\n",
       " \n",
       "        ...,\n",
       " \n",
       "        [[6.67499510e+01, 8.56490454e+00],\n",
       "         [6.96779273e+01, 1.13765298e+00],\n",
       "         [5.75924621e+01, 6.73481773e-01],\n",
       "         ...,\n",
       "         [1.75765665e+01, 1.69598572e+02],\n",
       "         [5.78942341e+01, 2.11459794e+02],\n",
       "         [1.88588460e+00, 2.23325004e+02]],\n",
       " \n",
       "        [[6.70847315e+01, 7.72578215e+00],\n",
       "         [6.95812176e+01, 4.61798884e-02],\n",
       "         [5.83187975e+01, 6.79444953e-01],\n",
       "         ...,\n",
       "         [1.93110930e+01, 1.68782948e+02],\n",
       "         [5.39538669e+01, 2.10892724e+02],\n",
       "         [2.56714255e-01, 2.21891517e+02]],\n",
       " \n",
       "        [[6.91873459e+01, 6.66052655e+00],\n",
       "         [7.09111637e+01, 6.45912857e-01],\n",
       "         [5.93511967e+01, 4.31689318e-01],\n",
       "         ...,\n",
       "         [1.63718932e+01, 1.65101991e+02],\n",
       "         [5.39383333e+01, 2.12598951e+02],\n",
       "         [6.81923657e-03, 2.23135384e+02]]])}"
      ]
     },
     "execution_count": 1,
     "metadata": {},
     "output_type": "execute_result"
    }
   ],
   "source": [
    "import pandas as pd\n",
    "obj = pd.read_pickle(r'lookup_test.pickle')\n",
    "obj"
   ]
  },
  {
   "cell_type": "code",
   "execution_count": 2,
   "id": "bfab9679-159e-42bf-8780-e8ddc1a3cf74",
   "metadata": {},
   "outputs": [
    {
     "data": {
      "text/plain": [
       "['punch - side']"
      ]
     },
     "execution_count": 2,
     "metadata": {},
     "output_type": "execute_result"
    }
   ],
   "source": [
    "list(obj.keys())"
   ]
  },
  {
   "cell_type": "code",
   "execution_count": 3,
   "id": "410f9061-9cfc-4a5d-a743-751fdd2ab140",
   "metadata": {},
   "outputs": [
    {
     "data": {
      "text/plain": [
       "(100, 17, 2)"
      ]
     },
     "execution_count": 3,
     "metadata": {},
     "output_type": "execute_result"
    }
   ],
   "source": [
    "obj['punch - side'].shape"
   ]
  },
  {
   "cell_type": "markdown",
   "id": "c7611473-b559-458b-887f-c75965ac4bff",
   "metadata": {},
   "source": [
    "## Make New Lookup Table"
   ]
  },
  {
   "cell_type": "code",
   "execution_count": 5,
   "id": "f3227795-a564-4434-9646-84a863118e34",
   "metadata": {
    "collapsed": true,
    "jupyter": {
     "outputs_hidden": true
    },
    "tags": []
   },
   "outputs": [
    {
     "name": "stdout",
     "output_type": "stream",
     "text": [
      "2023-02-20 12:49:23.847602: I tensorflow/core/platform/cpu_feature_guard.cc:193] This TensorFlow binary is optimized with oneAPI Deep Neural Network Library (oneDNN) to use the following CPU instructions in performance-critical operations:  AVX2 FMA\n",
      "To enable them in other operations, rebuild TensorFlow with the appropriate compiler flags.\n",
      "2023-02-20 12:49:24.590436: W tensorflow/compiler/xla/stream_executor/platform/default/dso_loader.cc:64] Could not load dynamic library 'libnvinfer.so.7'; dlerror: libnvinfer.so.7: cannot open shared object file: No such file or directory; LD_LIBRARY_PATH: /usr/local/nvidia/lib:/usr/local/nvidia/lib64\n",
      "2023-02-20 12:49:24.590503: W tensorflow/compiler/xla/stream_executor/platform/default/dso_loader.cc:64] Could not load dynamic library 'libnvinfer_plugin.so.7'; dlerror: libnvinfer_plugin.so.7: cannot open shared object file: No such file or directory; LD_LIBRARY_PATH: /usr/local/nvidia/lib:/usr/local/nvidia/lib64\n",
      "2023-02-20 12:49:24.590512: W tensorflow/compiler/tf2tensorrt/utils/py_utils.cc:38] TF-TRT Warning: Cannot dlopen some TensorRT libraries. If you would like to use Nvidia GPU with TensorRT, please make sure the missing libraries mentioned above are installed properly.\n",
      "2023-02-20 12:49:25.580648: I tensorflow/core/platform/cpu_feature_guard.cc:193] This TensorFlow binary is optimized with oneAPI Deep Neural Network Library (oneDNN) to use the following CPU instructions in performance-critical operations:  AVX2 FMA\n",
      "To enable them in other operations, rebuild TensorFlow with the appropriate compiler flags.\n",
      "2023-02-20 12:49:26.041552: I tensorflow/core/common_runtime/gpu/gpu_device.cc:1613] Created device /job:localhost/replica:0/task:0/device:GPU:0 with 5935 MB memory:  -> device: 0, name: A100-SXM4-40GB MIG 2g.10gb, pci bus id: 0000:b7:00.0, compute capability: 8.0\n",
      "2023-02-20 12:49:26.132291: I tensorflow/compiler/mlir/mlir_graph_optimization_pass.cc:357] MLIR V1 optimization pass is not enabled\n",
      "2023-02-20 12:49:27.184241: I tensorflow/compiler/xla/stream_executor/cuda/cuda_dnn.cc:428] Loaded cuDNN version 8700\n",
      "[[[5.15237973e+01 8.92462538e+00]\n",
      "  [4.70606809e+01 2.80778946e-01]\n",
      "  [4.32073395e+01 2.80873380e+00]\n",
      "  ...\n",
      "  [4.81285622e+00 1.71309404e+02]\n",
      "  [5.91167808e+01 2.00303790e+02]\n",
      "  [9.83881601e+00 2.16750135e+02]]\n",
      "\n",
      " [[5.13342288e+01 9.10994820e+00]\n",
      "  [4.68533783e+01 5.65707300e-01]\n",
      "  [4.30999658e+01 3.15314380e+00]\n",
      "  ...\n",
      "  [4.78393455e+00 1.71623090e+02]\n",
      "  [5.88835884e+01 2.00352324e+02]\n",
      "  [9.67072575e+00 2.16373866e+02]]\n",
      "\n",
      " [[5.12235165e+01 8.30698343e+00]\n",
      "  [4.71583552e+01 1.85454121e-01]\n",
      "  [4.13450649e+01 8.96793082e-01]\n",
      "  ...\n",
      "  [4.89774453e+00 1.70027146e+02]\n",
      "  [5.92767119e+01 1.99126752e+02]\n",
      "  [9.97874510e+00 2.14545982e+02]]\n",
      "\n",
      " ...\n",
      "\n",
      " [[6.90542393e+01 7.14548233e+00]\n",
      "  [7.29468134e+01 1.13439492e+00]\n",
      "  [6.03217402e+01 9.14385349e-01]\n",
      "  ...\n",
      "  [2.04124523e+01 1.70980885e+02]\n",
      "  [5.41600700e+01 2.13400917e+02]\n",
      "  [4.62558839e-01 2.22416345e+02]]\n",
      "\n",
      " [[6.81164180e+01 7.79793997e+00]\n",
      "  [7.30366434e+01 5.25012214e-01]\n",
      "  [5.96764957e+01 9.10543939e-02]\n",
      "  ...\n",
      "  [2.16771316e+01 1.70703853e+02]\n",
      "  [5.25874446e+01 2.15042975e+02]\n",
      "  [8.12495255e-01 2.23048881e+02]]\n",
      "\n",
      " [[6.73637564e+01 8.86374008e+00]\n",
      "  [7.28299518e+01 1.26955966e-01]\n",
      "  [6.01700656e+01 1.17509785e+00]\n",
      "  ...\n",
      "  [1.86245385e+01 1.70628788e+02]\n",
      "  [4.95317205e+01 2.15854619e+02]\n",
      "  [2.80606037e-01 2.21934406e+02]]]\n",
      "(103, 17, 2)\n",
      "Lookup Table Created\n"
     ]
    }
   ],
   "source": [
    "!python keypoints_from_video.py --activity \"punch - side\" --video \"test.mp4\" --lookup \"lookup_new.pickle\""
   ]
  },
  {
   "cell_type": "code",
   "execution_count": 6,
   "id": "70a3f718-5f98-4fb6-9b9f-2af8808be5b0",
   "metadata": {},
   "outputs": [
    {
     "data": {
      "text/plain": [
       "['punch - side']"
      ]
     },
     "execution_count": 6,
     "metadata": {},
     "output_type": "execute_result"
    }
   ],
   "source": [
    "obj_1 = pd.read_pickle(r'lookup_new.pickle')\n",
    "list(obj_1.keys())"
   ]
  },
  {
   "cell_type": "code",
   "execution_count": 7,
   "id": "13a9a4ee-9360-43c4-83f0-7b2ab0bb210f",
   "metadata": {},
   "outputs": [
    {
     "data": {
      "text/plain": [
       "(103, 17, 2)"
      ]
     },
     "execution_count": 7,
     "metadata": {},
     "output_type": "execute_result"
    }
   ],
   "source": [
    "obj_1['punch - side'].shape"
   ]
  },
  {
   "cell_type": "markdown",
   "id": "e2b189f3-42d5-49db-9b66-8b4687d0db89",
   "metadata": {},
   "source": [
    "## Test with New Lookup Table"
   ]
  },
  {
   "cell_type": "code",
   "execution_count": 8,
   "id": "b3007580-9230-427f-9011-fec5800a59cb",
   "metadata": {
    "collapsed": true,
    "jupyter": {
     "outputs_hidden": true
    },
    "tags": []
   },
   "outputs": [
    {
     "name": "stdout",
     "output_type": "stream",
     "text": [
      "2023-02-20 12:51:22.567544: I tensorflow/core/platform/cpu_feature_guard.cc:193] This TensorFlow binary is optimized with oneAPI Deep Neural Network Library (oneDNN) to use the following CPU instructions in performance-critical operations:  AVX2 FMA\n",
      "To enable them in other operations, rebuild TensorFlow with the appropriate compiler flags.\n",
      "2023-02-20 12:51:23.296802: W tensorflow/compiler/xla/stream_executor/platform/default/dso_loader.cc:64] Could not load dynamic library 'libnvinfer.so.7'; dlerror: libnvinfer.so.7: cannot open shared object file: No such file or directory; LD_LIBRARY_PATH: /usr/local/nvidia/lib:/usr/local/nvidia/lib64\n",
      "2023-02-20 12:51:23.296868: W tensorflow/compiler/xla/stream_executor/platform/default/dso_loader.cc:64] Could not load dynamic library 'libnvinfer_plugin.so.7'; dlerror: libnvinfer_plugin.so.7: cannot open shared object file: No such file or directory; LD_LIBRARY_PATH: /usr/local/nvidia/lib:/usr/local/nvidia/lib64\n",
      "2023-02-20 12:51:23.296877: W tensorflow/compiler/tf2tensorrt/utils/py_utils.cc:38] TF-TRT Warning: Cannot dlopen some TensorRT libraries. If you would like to use Nvidia GPU with TensorRT, please make sure the missing libraries mentioned above are installed properly.\n",
      "2023-02-20 12:51:24.284553: I tensorflow/core/platform/cpu_feature_guard.cc:193] This TensorFlow binary is optimized with oneAPI Deep Neural Network Library (oneDNN) to use the following CPU instructions in performance-critical operations:  AVX2 FMA\n",
      "To enable them in other operations, rebuild TensorFlow with the appropriate compiler flags.\n",
      "2023-02-20 12:51:24.762176: I tensorflow/core/common_runtime/gpu/gpu_device.cc:1613] Created device /job:localhost/replica:0/task:0/device:GPU:0 with 5935 MB memory:  -> device: 0, name: A100-SXM4-40GB MIG 2g.10gb, pci bus id: 0000:b7:00.0, compute capability: 8.0\n",
      "2023-02-20 12:51:24.847004: I tensorflow/compiler/mlir/mlir_graph_optimization_pass.cc:357] MLIR V1 optimization pass is not enabled\n",
      "2023-02-20 12:51:25.890289: I tensorflow/compiler/xla/stream_executor/cuda/cuda_dnn.cc:428] Loaded cuDNN version 8700\n",
      "Total Score :  99.52941176470588\n",
      "Score List :  [99, 99, 100, 100, 100, 99, 100, 99, 100, 99, 100, 100, 99, 100, 99, 100, 99]\n"
     ]
    }
   ],
   "source": [
    "!python start_here.py --activity \"punch - side\" --video \"test.mp4\" --lookup \"lookup_new.pickle\"\n",
    "\n",
    "# Total Score :  99.52941176470588\n",
    "# total score higher because comparing the same video"
   ]
  }
 ],
 "metadata": {
  "kernelspec": {
   "display_name": "Python 3 (ipykernel)",
   "language": "python",
   "name": "python3"
  },
  "language_info": {
   "codemirror_mode": {
    "name": "ipython",
    "version": 3
   },
   "file_extension": ".py",
   "mimetype": "text/x-python",
   "name": "python",
   "nbconvert_exporter": "python",
   "pygments_lexer": "ipython3",
   "version": "3.10.6"
  }
 },
 "nbformat": 4,
 "nbformat_minor": 5
}
